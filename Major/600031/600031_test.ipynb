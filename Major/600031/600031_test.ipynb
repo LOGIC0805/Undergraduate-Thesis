{
 "cells": [
  {
   "cell_type": "code",
   "execution_count": 1,
   "metadata": {},
   "outputs": [],
   "source": [
    "import pandas as pd\n",
    "import matplotlib.pyplot as plt\n",
    "import warnings\n",
    "\n",
    "warnings.filterwarnings(\"ignore\")"
   ]
  },
  {
   "cell_type": "code",
   "execution_count": 2,
   "metadata": {},
   "outputs": [
    {
     "data": {
      "text/html": [
       "<div>\n",
       "<style scoped>\n",
       "    .dataframe tbody tr th:only-of-type {\n",
       "        vertical-align: middle;\n",
       "    }\n",
       "\n",
       "    .dataframe tbody tr th {\n",
       "        vertical-align: top;\n",
       "    }\n",
       "\n",
       "    .dataframe thead th {\n",
       "        text-align: right;\n",
       "    }\n",
       "</style>\n",
       "<table border=\"1\" class=\"dataframe\">\n",
       "  <thead>\n",
       "    <tr style=\"text-align: right;\">\n",
       "      <th></th>\n",
       "      <th>seq</th>\n",
       "    </tr>\n",
       "  </thead>\n",
       "  <tbody>\n",
       "    <tr>\n",
       "      <th>60</th>\n",
       "      <td>22.578703</td>\n",
       "    </tr>\n",
       "    <tr>\n",
       "      <th>61</th>\n",
       "      <td>21.784016</td>\n",
       "    </tr>\n",
       "    <tr>\n",
       "      <th>62</th>\n",
       "      <td>20.989328</td>\n",
       "    </tr>\n",
       "    <tr>\n",
       "      <th>63</th>\n",
       "      <td>20.194641</td>\n",
       "    </tr>\n",
       "    <tr>\n",
       "      <th>64</th>\n",
       "      <td>19.399954</td>\n",
       "    </tr>\n",
       "  </tbody>\n",
       "</table>\n",
       "</div>"
      ],
      "text/plain": [
       "          seq\n",
       "60  22.578703\n",
       "61  21.784016\n",
       "62  20.989328\n",
       "63  20.194641\n",
       "64  19.399954"
      ]
     },
     "execution_count": 2,
     "metadata": {},
     "output_type": "execute_result"
    }
   ],
   "source": [
    "datas = pd.read_csv('600031.csv')\n",
    "weight = [13, 35, 26, 1, 1]\n",
    "pred = [22.57870275, 21.78401558, 20.9893284 , 20.19464123, 19.39995405]\n",
    "# weight = [12, 37, 35, 3, 1]\n",
    "# pred = [25.49806704, 24.53348299, 23.56889894, 22.60431488, 21.63973083]\n",
    "seq = datas['BSI1'] * weight[0] + datas['openNR'] * weight[1] + datas['closeNR'] * weight[2] + datas['highNR'] * weight[3] + datas['lowNR'] * weight[4]\n",
    "seqs = pd.DataFrame(seq)\n",
    "seqs.columns = ['seq']\n",
    "new_seq = pd.DataFrame(pred)\n",
    "new_seq.columns = ['seq']\n",
    "seqs = seqs.append(new_seq)\n",
    "seqs = seqs.reset_index()\n",
    "seqs = seqs.drop(['index'], axis = 1)\n",
    "seqs.tail()"
   ]
  },
  {
   "cell_type": "code",
   "execution_count": 3,
   "metadata": {},
   "outputs": [
    {
     "data": {
      "image/png": "[encoded data removed]",
      "text/plain": [
       "<Figure size 432x288 with 1 Axes>"
      ]
     },
     "metadata": {
      "needs_background": "light"
     },
     "output_type": "display_data"
    }
   ],
   "source": [
    "plt.plot(seqs)\n",
    "plt.savefig('pic/600031_fin_BSI1_index_pred')\n",
    "plt.show()"
   ]
  },
  {
   "cell_type": "code",
   "execution_count": 4,
   "metadata": {},
   "outputs": [
    {
     "data": {
      "text/html": [
       "<div>\n",
       "<style scoped>\n",
       "    .dataframe tbody tr th:only-of-type {\n",
       "        vertical-align: middle;\n",
       "    }\n",
       "\n",
       "    .dataframe tbody tr th {\n",
       "        vertical-align: top;\n",
       "    }\n",
       "\n",
       "    .dataframe thead th {\n",
       "        text-align: right;\n",
       "    }\n",
       "</style>\n",
       "<table border=\"1\" class=\"dataframe\">\n",
       "  <thead>\n",
       "    <tr style=\"text-align: right;\">\n",
       "      <th></th>\n",
       "      <th>MA5</th>\n",
       "      <th>MA10</th>\n",
       "    </tr>\n",
       "  </thead>\n",
       "  <tbody>\n",
       "    <tr>\n",
       "      <th>60</th>\n",
       "      <td>26.744299</td>\n",
       "      <td>27.656246</td>\n",
       "    </tr>\n",
       "    <tr>\n",
       "      <th>61</th>\n",
       "      <td>24.613483</td>\n",
       "      <td>27.125747</td>\n",
       "    </tr>\n",
       "    <tr>\n",
       "      <th>62</th>\n",
       "      <td>22.570822</td>\n",
       "      <td>26.343154</td>\n",
       "    </tr>\n",
       "    <tr>\n",
       "      <th>63</th>\n",
       "      <td>21.407665</td>\n",
       "      <td>25.519800</td>\n",
       "    </tr>\n",
       "    <tr>\n",
       "      <th>64</th>\n",
       "      <td>20.989328</td>\n",
       "      <td>25.079743</td>\n",
       "    </tr>\n",
       "  </tbody>\n",
       "</table>\n",
       "</div>"
      ],
      "text/plain": [
       "          MA5       MA10\n",
       "60  26.744299  27.656246\n",
       "61  24.613483  27.125747\n",
       "62  22.570822  26.343154\n",
       "63  21.407665  25.519800\n",
       "64  20.989328  25.079743"
      ]
     },
     "execution_count": 4,
     "metadata": {},
     "output_type": "execute_result"
    }
   ],
   "source": [
    "MA10 = []\n",
    "MA5 = []\n",
    "for day in range(len(seqs['seq'])):\n",
    "    if day < 4:\n",
    "        MA5.append(0)\n",
    "        MA10.append(0)\n",
    "    elif day < 9:\n",
    "        MA5.append(seqs.loc[day - 4:day + 1].mean().values[0])\n",
    "        MA10.append(0)\n",
    "    else:\n",
    "        MA5.append(seqs.loc[day - 4:day + 1].mean().values[0])\n",
    "        MA10.append(seqs.loc[day - 9:day + 1].mean().values[0])\n",
    "MA = pd.DataFrame()\n",
    "MA['MA5'] = MA5\n",
    "MA['MA10'] = MA10\n",
    "MA.tail()"
   ]
  },
  {
   "cell_type": "code",
   "execution_count": 5,
   "metadata": {},
   "outputs": [
    {
     "data": {
      "image/png": "[encoded data removed]",
      "text/plain": [
       "<Figure size 432x288 with 1 Axes>"
      ]
     },
     "metadata": {
      "needs_background": "light"
     },
     "output_type": "display_data"
    }
   ],
   "source": [
    "plt.plot(MA['MA5'].loc[9:], label='MA5')\n",
    "plt.plot(MA['MA10'].loc[9:], label='MA10')\n",
    "plt.legend(loc='best')\n",
    "plt.savefig('pic/600031_fin_BSI1_index_EMA')\n",
    "plt.show()"
   ]
  },
  {
   "cell_type": "code",
   "execution_count": 6,
   "metadata": {},
   "outputs": [
    {
     "name": "stdout",
     "output_type": "stream",
     "text": [
      "金叉点:  [32, 41]\n",
      "死叉点:  [38, 50]\n"
     ]
    }
   ],
   "source": [
    "flag = MA['MA5'] - MA['MA10']\n",
    "flag = flag.apply(lambda x: 1 if x >= 0 else 0)\n",
    "\n",
    "fork_gold = []\n",
    "fork_dead = []\n",
    "last = flag[10]\n",
    "for day in range(11, len(flag)):\n",
    "    if flag[day] != last:\n",
    "        if flag[day] == 0:\n",
    "            fork_dead.append(day)\n",
    "        else:\n",
    "            fork_gold.append(day)\n",
    "        last = flag[day]\n",
    "print('金叉点: ', fork_gold)\n",
    "print('死叉点: ', fork_dead)"
   ]
  },
  {
   "cell_type": "code",
   "execution_count": 7,
   "metadata": {},
   "outputs": [
    {
     "name": "stdout",
     "output_type": "stream",
     "text": [
      "本接口即将停止更新，请尽快使用Pro版接口：https://tushare.pro/document/2\n"
     ]
    },
    {
     "data": {
      "text/html": [
       "<div>\n",
       "<style scoped>\n",
       "    .dataframe tbody tr th:only-of-type {\n",
       "        vertical-align: middle;\n",
       "    }\n",
       "\n",
       "    .dataframe tbody tr th {\n",
       "        vertical-align: top;\n",
       "    }\n",
       "\n",
       "    .dataframe thead th {\n",
       "        text-align: right;\n",
       "    }\n",
       "</style>\n",
       "<table border=\"1\" class=\"dataframe\">\n",
       "  <thead>\n",
       "    <tr style=\"text-align: right;\">\n",
       "      <th></th>\n",
       "      <th>open</th>\n",
       "      <th>high</th>\n",
       "      <th>close</th>\n",
       "      <th>low</th>\n",
       "      <th>volume</th>\n",
       "      <th>price_change</th>\n",
       "      <th>p_change</th>\n",
       "      <th>ma5</th>\n",
       "      <th>ma10</th>\n",
       "      <th>ma20</th>\n",
       "      <th>v_ma5</th>\n",
       "      <th>v_ma10</th>\n",
       "      <th>v_ma20</th>\n",
       "      <th>turnover</th>\n",
       "    </tr>\n",
       "  </thead>\n",
       "  <tbody>\n",
       "    <tr>\n",
       "      <th>0</th>\n",
       "      <td>26.18</td>\n",
       "      <td>26.38</td>\n",
       "      <td>25.93</td>\n",
       "      <td>25.88</td>\n",
       "      <td>850601.06</td>\n",
       "      <td>-0.23</td>\n",
       "      <td>-0.88</td>\n",
       "      <td>25.614</td>\n",
       "      <td>25.775</td>\n",
       "      <td>26.853</td>\n",
       "      <td>981777.91</td>\n",
       "      <td>1103709.89</td>\n",
       "      <td>1420205.53</td>\n",
       "      <td>1.00</td>\n",
       "    </tr>\n",
       "    <tr>\n",
       "      <th>1</th>\n",
       "      <td>25.81</td>\n",
       "      <td>25.90</td>\n",
       "      <td>25.39</td>\n",
       "      <td>25.15</td>\n",
       "      <td>984220.06</td>\n",
       "      <td>-0.54</td>\n",
       "      <td>-2.08</td>\n",
       "      <td>25.620</td>\n",
       "      <td>25.671</td>\n",
       "      <td>26.716</td>\n",
       "      <td>994331.31</td>\n",
       "      <td>1104706.38</td>\n",
       "      <td>1371127.23</td>\n",
       "      <td>1.16</td>\n",
       "    </tr>\n",
       "    <tr>\n",
       "      <th>2</th>\n",
       "      <td>25.26</td>\n",
       "      <td>25.58</td>\n",
       "      <td>25.43</td>\n",
       "      <td>25.25</td>\n",
       "      <td>611173.44</td>\n",
       "      <td>0.04</td>\n",
       "      <td>0.16</td>\n",
       "      <td>25.670</td>\n",
       "      <td>25.629</td>\n",
       "      <td>26.525</td>\n",
       "      <td>910566.72</td>\n",
       "      <td>1037763.89</td>\n",
       "      <td>1254026.51</td>\n",
       "      <td>0.72</td>\n",
       "    </tr>\n",
       "    <tr>\n",
       "      <th>3</th>\n",
       "      <td>25.44</td>\n",
       "      <td>25.76</td>\n",
       "      <td>25.62</td>\n",
       "      <td>25.38</td>\n",
       "      <td>674322.38</td>\n",
       "      <td>0.19</td>\n",
       "      <td>0.75</td>\n",
       "      <td>25.706</td>\n",
       "      <td>25.557</td>\n",
       "      <td>26.350</td>\n",
       "      <td>864613.69</td>\n",
       "      <td>987223.76</td>\n",
       "      <td>1196098.50</td>\n",
       "      <td>0.79</td>\n",
       "    </tr>\n",
       "    <tr>\n",
       "      <th>4</th>\n",
       "      <td>25.65</td>\n",
       "      <td>25.69</td>\n",
       "      <td>25.27</td>\n",
       "      <td>25.20</td>\n",
       "      <td>719281.44</td>\n",
       "      <td>-0.35</td>\n",
       "      <td>-1.37</td>\n",
       "      <td>25.528</td>\n",
       "      <td>25.496</td>\n",
       "      <td>26.198</td>\n",
       "      <td>767919.68</td>\n",
       "      <td>957831.81</td>\n",
       "      <td>1139041.74</td>\n",
       "      <td>0.85</td>\n",
       "    </tr>\n",
       "    <tr>\n",
       "      <th>...</th>\n",
       "      <td>...</td>\n",
       "      <td>...</td>\n",
       "      <td>...</td>\n",
       "      <td>...</td>\n",
       "      <td>...</td>\n",
       "      <td>...</td>\n",
       "      <td>...</td>\n",
       "      <td>...</td>\n",
       "      <td>...</td>\n",
       "      <td>...</td>\n",
       "      <td>...</td>\n",
       "      <td>...</td>\n",
       "      <td>...</td>\n",
       "      <td>...</td>\n",
       "    </tr>\n",
       "    <tr>\n",
       "      <th>60</th>\n",
       "      <td>22.79</td>\n",
       "      <td>22.89</td>\n",
       "      <td>22.80</td>\n",
       "      <td>22.52</td>\n",
       "      <td>770091.19</td>\n",
       "      <td>0.00</td>\n",
       "      <td>0.00</td>\n",
       "      <td>23.168</td>\n",
       "      <td>23.287</td>\n",
       "      <td>23.493</td>\n",
       "      <td>811271.89</td>\n",
       "      <td>787512.48</td>\n",
       "      <td>1345408.10</td>\n",
       "      <td>0.91</td>\n",
       "    </tr>\n",
       "    <tr>\n",
       "      <th>61</th>\n",
       "      <td>22.81</td>\n",
       "      <td>23.29</td>\n",
       "      <td>23.08</td>\n",
       "      <td>22.66</td>\n",
       "      <td>1275573.62</td>\n",
       "      <td>0.28</td>\n",
       "      <td>1.23</td>\n",
       "      <td>23.034</td>\n",
       "      <td>23.252</td>\n",
       "      <td>23.435</td>\n",
       "      <td>888973.11</td>\n",
       "      <td>845500.99</td>\n",
       "      <td>1211791.49</td>\n",
       "      <td>1.50</td>\n",
       "    </tr>\n",
       "    <tr>\n",
       "      <th>62</th>\n",
       "      <td>22.91</td>\n",
       "      <td>24.10</td>\n",
       "      <td>23.85</td>\n",
       "      <td>22.86</td>\n",
       "      <td>2285160.50</td>\n",
       "      <td>0.77</td>\n",
       "      <td>3.34</td>\n",
       "      <td>23.134</td>\n",
       "      <td>23.316</td>\n",
       "      <td>23.440</td>\n",
       "      <td>1210362.06</td>\n",
       "      <td>1008600.68</td>\n",
       "      <td>1194414.82</td>\n",
       "      <td>2.69</td>\n",
       "    </tr>\n",
       "    <tr>\n",
       "      <th>63</th>\n",
       "      <td>23.77</td>\n",
       "      <td>25.11</td>\n",
       "      <td>24.81</td>\n",
       "      <td>23.75</td>\n",
       "      <td>3204665.75</td>\n",
       "      <td>0.96</td>\n",
       "      <td>4.03</td>\n",
       "      <td>23.468</td>\n",
       "      <td>23.445</td>\n",
       "      <td>23.490</td>\n",
       "      <td>1702515.55</td>\n",
       "      <td>1227597.26</td>\n",
       "      <td>1262811.65</td>\n",
       "      <td>3.77</td>\n",
       "    </tr>\n",
       "    <tr>\n",
       "      <th>64</th>\n",
       "      <td>25.20</td>\n",
       "      <td>25.31</td>\n",
       "      <td>24.86</td>\n",
       "      <td>24.41</td>\n",
       "      <td>1600713.00</td>\n",
       "      <td>0.05</td>\n",
       "      <td>0.20</td>\n",
       "      <td>23.880</td>\n",
       "      <td>23.595</td>\n",
       "      <td>23.574</td>\n",
       "      <td>1827240.81</td>\n",
       "      <td>1307367.10</td>\n",
       "      <td>1261003.99</td>\n",
       "      <td>1.88</td>\n",
       "    </tr>\n",
       "  </tbody>\n",
       "</table>\n",
       "<p>65 rows × 14 columns</p>\n",
       "</div>"
      ],
      "text/plain": [
       "     open   high  close    low      volume  price_change  p_change     ma5  \\\n",
       "0   26.18  26.38  25.93  25.88   850601.06         -0.23     -0.88  25.614   \n",
       "1   25.81  25.90  25.39  25.15   984220.06         -0.54     -2.08  25.620   \n",
       "2   25.26  25.58  25.43  25.25   611173.44          0.04      0.16  25.670   \n",
       "3   25.44  25.76  25.62  25.38   674322.38          0.19      0.75  25.706   \n",
       "4   25.65  25.69  25.27  25.20   719281.44         -0.35     -1.37  25.528   \n",
       "..    ...    ...    ...    ...         ...           ...       ...     ...   \n",
       "60  22.79  22.89  22.80  22.52   770091.19          0.00      0.00  23.168   \n",
       "61  22.81  23.29  23.08  22.66  1275573.62          0.28      1.23  23.034   \n",
       "62  22.91  24.10  23.85  22.86  2285160.50          0.77      3.34  23.134   \n",
       "63  23.77  25.11  24.81  23.75  3204665.75          0.96      4.03  23.468   \n",
       "64  25.20  25.31  24.86  24.41  1600713.00          0.05      0.20  23.880   \n",
       "\n",
       "      ma10    ma20       v_ma5      v_ma10      v_ma20  turnover  \n",
       "0   25.775  26.853   981777.91  1103709.89  1420205.53      1.00  \n",
       "1   25.671  26.716   994331.31  1104706.38  1371127.23      1.16  \n",
       "2   25.629  26.525   910566.72  1037763.89  1254026.51      0.72  \n",
       "3   25.557  26.350   864613.69   987223.76  1196098.50      0.79  \n",
       "4   25.496  26.198   767919.68   957831.81  1139041.74      0.85  \n",
       "..     ...     ...         ...         ...         ...       ...  \n",
       "60  23.287  23.493   811271.89   787512.48  1345408.10      0.91  \n",
       "61  23.252  23.435   888973.11   845500.99  1211791.49      1.50  \n",
       "62  23.316  23.440  1210362.06  1008600.68  1194414.82      2.69  \n",
       "63  23.445  23.490  1702515.55  1227597.26  1262811.65      3.77  \n",
       "64  23.595  23.574  1827240.81  1307367.10  1261003.99      1.88  \n",
       "\n",
       "[65 rows x 14 columns]"
      ]
     },
     "execution_count": 7,
     "metadata": {},
     "output_type": "execute_result"
    }
   ],
   "source": [
    "import tushare as ts\n",
    "fin_datas = ts.get_hist_data('600031', start='2021-10-11', end='2022-01-10')\n",
    "fin_datas = fin_datas.reset_index()\n",
    "fin_datas = fin_datas.sort_values('date',ascending=True)\n",
    "fin_datas = fin_datas.reset_index()\n",
    "fin_datas = fin_datas.drop(['index', 'date'], axis = 1)\n",
    "fin_datas"
   ]
  },
  {
   "cell_type": "code",
   "execution_count": 8,
   "metadata": {},
   "outputs": [
    {
     "data": {
      "text/html": [
       "<div>\n",
       "<style scoped>\n",
       "    .dataframe tbody tr th:only-of-type {\n",
       "        vertical-align: middle;\n",
       "    }\n",
       "\n",
       "    .dataframe tbody tr th {\n",
       "        vertical-align: top;\n",
       "    }\n",
       "\n",
       "    .dataframe thead th {\n",
       "        text-align: right;\n",
       "    }\n",
       "</style>\n",
       "<table border=\"1\" class=\"dataframe\">\n",
       "  <thead>\n",
       "    <tr style=\"text-align: right;\">\n",
       "      <th></th>\n",
       "      <th>MA5</th>\n",
       "      <th>MA10</th>\n",
       "    </tr>\n",
       "  </thead>\n",
       "  <tbody>\n",
       "    <tr>\n",
       "      <th>60</th>\n",
       "      <td>23.168</td>\n",
       "      <td>23.287</td>\n",
       "    </tr>\n",
       "    <tr>\n",
       "      <th>61</th>\n",
       "      <td>23.034</td>\n",
       "      <td>23.252</td>\n",
       "    </tr>\n",
       "    <tr>\n",
       "      <th>62</th>\n",
       "      <td>23.134</td>\n",
       "      <td>23.316</td>\n",
       "    </tr>\n",
       "    <tr>\n",
       "      <th>63</th>\n",
       "      <td>23.468</td>\n",
       "      <td>23.445</td>\n",
       "    </tr>\n",
       "    <tr>\n",
       "      <th>64</th>\n",
       "      <td>23.880</td>\n",
       "      <td>23.595</td>\n",
       "    </tr>\n",
       "  </tbody>\n",
       "</table>\n",
       "</div>"
      ],
      "text/plain": [
       "       MA5    MA10\n",
       "60  23.168  23.287\n",
       "61  23.034  23.252\n",
       "62  23.134  23.316\n",
       "63  23.468  23.445\n",
       "64  23.880  23.595"
      ]
     },
     "execution_count": 8,
     "metadata": {},
     "output_type": "execute_result"
    }
   ],
   "source": [
    "MA_old = fin_datas[['ma5', 'ma10']]\n",
    "MA_old = MA_old.reset_index()\n",
    "MA_old = MA_old[['ma5', 'ma10']]\n",
    "MA_old.columns = ['MA5', 'MA10']\n",
    "MA_old.tail()"
   ]
  },
  {
   "cell_type": "code",
   "execution_count": 9,
   "metadata": {},
   "outputs": [
    {
     "data": {
      "image/png": "[encoded data removed]",
      "text/plain": [
       "<Figure size 432x288 with 1 Axes>"
      ]
     },
     "metadata": {
      "needs_background": "light"
     },
     "output_type": "display_data"
    }
   ],
   "source": [
    "plt.plot(MA['MA5'].loc[9:60], label='MA5')\n",
    "plt.plot(MA['MA10'].loc[9:60], label='MA10')\n",
    "plt.legend(loc='best')\n",
    "plt.savefig('pic/600031_fin_EMA')\n",
    "plt.show()"
   ]
  },
  {
   "cell_type": "code",
   "execution_count": 10,
   "metadata": {},
   "outputs": [
    {
     "name": "stdout",
     "output_type": "stream",
     "text": [
      "金叉点:  [32, 41, 57, 63]\n",
      "死叉点:  [38, 50, 59]\n"
     ]
    }
   ],
   "source": [
    "flag_old = MA_old['MA5'] - MA_old['MA10']\n",
    "flag_old = flag_old.apply(lambda x: 1 if x >= 0 else 0)\n",
    "\n",
    "fork_gold_old = []\n",
    "fork_dead_old = []\n",
    "last = flag_old[10]\n",
    "for day in range(11, len(flag_old)):\n",
    "    if flag_old[day] != last:\n",
    "        if flag_old[day] == 0:\n",
    "            fork_dead_old.append(day)\n",
    "        else:\n",
    "            fork_gold_old.append(day)\n",
    "        last = flag_old[day]\n",
    "print('金叉点: ', fork_gold_old)\n",
    "print('死叉点: ', fork_dead_old)"
   ]
  },
  {
   "cell_type": "code",
   "execution_count": 11,
   "metadata": {},
   "outputs": [
    {
     "name": "stdout",
     "output_type": "stream",
     "text": [
      "新每股收益:  0.5899999999999999\n",
      "旧每股收益:  0.240000000000002\n"
     ]
    }
   ],
   "source": [
    "price = fin_datas['close'].tolist()\n",
    "earn = price[fork_dead[-1]] - price[fork_gold[0]]\n",
    "print('新每股收益: ', earn)\n",
    "earn_old = price[fork_dead_old[-1]] - price[fork_gold_old[0]]\n",
    "print('旧每股收益: ', earn_old)"
   ]
  }
 ],
 "metadata": {
  "interpreter": {
   "hash": "a8f61be024eba58adef938c9aa1e29e02cb3dece83a5348b1a2dafd16a070453"
  },
  "kernelspec": {
   "display_name": "Python 3.7.0 ('base')",
   "language": "python",
   "name": "python3"
  },
  "language_info": {
   "codemirror_mode": {
    "name": "ipython",
    "version": 3
   },
   "file_extension": ".py",
   "mimetype": "text/x-python",
   "name": "python",
   "nbconvert_exporter": "python",
   "pygments_lexer": "ipython3",
   "version": "3.7.0"
  },
  "orig_nbformat": 4
 },
 "nbformat": 4,
 "nbformat_minor": 2
}
