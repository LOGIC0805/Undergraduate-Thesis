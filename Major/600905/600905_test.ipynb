{
 "cells": [
  {
   "cell_type": "code",
   "execution_count": 1,
   "metadata": {},
   "outputs": [],
   "source": [
    "import pandas as pd\n",
    "import matplotlib.pyplot as plt\n",
    "import warnings\n",
    "\n",
    "warnings.filterwarnings(\"ignore\")"
   ]
  },
  {
   "cell_type": "code",
   "execution_count": 2,
   "metadata": {},
   "outputs": [
    {
     "data": {
      "text/html": [
       "<div>\n",
       "<style scoped>\n",
       "    .dataframe tbody tr th:only-of-type {\n",
       "        vertical-align: middle;\n",
       "    }\n",
       "\n",
       "    .dataframe tbody tr th {\n",
       "        vertical-align: top;\n",
       "    }\n",
       "\n",
       "    .dataframe thead th {\n",
       "        text-align: right;\n",
       "    }\n",
       "</style>\n",
       "<table border=\"1\" class=\"dataframe\">\n",
       "  <thead>\n",
       "    <tr style=\"text-align: right;\">\n",
       "      <th></th>\n",
       "      <th>seq</th>\n",
       "    </tr>\n",
       "  </thead>\n",
       "  <tbody>\n",
       "    <tr>\n",
       "      <th>60</th>\n",
       "      <td>71.846702</td>\n",
       "    </tr>\n",
       "    <tr>\n",
       "      <th>61</th>\n",
       "      <td>72.282160</td>\n",
       "    </tr>\n",
       "    <tr>\n",
       "      <th>62</th>\n",
       "      <td>72.717618</td>\n",
       "    </tr>\n",
       "    <tr>\n",
       "      <th>63</th>\n",
       "      <td>73.153076</td>\n",
       "    </tr>\n",
       "    <tr>\n",
       "      <th>64</th>\n",
       "      <td>73.588534</td>\n",
       "    </tr>\n",
       "  </tbody>\n",
       "</table>\n",
       "</div>"
      ],
      "text/plain": [
       "          seq\n",
       "60  71.846702\n",
       "61  72.282160\n",
       "62  72.717618\n",
       "63  73.153076\n",
       "64  73.588534"
      ]
     },
     "execution_count": 2,
     "metadata": {},
     "output_type": "execute_result"
    }
   ],
   "source": [
    "datas = pd.read_csv('600905.csv')\n",
    "# weight = [22, 40, 21, 4, 2]\n",
    "# pred = [63.2917232 , 63.56278105, 63.83383889, 64.10489674, 64.37595459]\n",
    "# weight = [33, 64, 50, 4, 5]\n",
    "# pred = [116.49560157, 117.09300495, 117.69040833, 118.28781171, 118.8852151]\n",
    "weight = [15, 46, 35, 2, 5]\n",
    "pred = [71.84670162, 72.28215977, 72.71761792, 73.15307606, 73.58853421]\n",
    "seq = datas['BSI6'] * weight[0] + datas['openNR'] * weight[1] + datas['closeNR'] * weight[2] + datas['highNR'] * weight[3] + datas['lowNR'] * weight[4]\n",
    "seqs = pd.DataFrame(seq)\n",
    "seqs.columns = ['seq']\n",
    "new_seq = pd.DataFrame(pred)\n",
    "new_seq.columns = ['seq']\n",
    "seqs = seqs.append(new_seq)\n",
    "seqs = seqs.reset_index()\n",
    "seqs = seqs.drop(['index'], axis = 1)\n",
    "seqs.tail()"
   ]
  },
  {
   "cell_type": "code",
   "execution_count": 3,
   "metadata": {},
   "outputs": [
    {
     "data": {
      "image/png": "[encoded data removed]",
      "text/plain": [
       "<Figure size 432x288 with 1 Axes>"
      ]
     },
     "metadata": {
      "needs_background": "light"
     },
     "output_type": "display_data"
    }
   ],
   "source": [
    "plt.plot(seqs)\n",
    "plt.savefig('pic/600905_fin_BSI6_index_pred')\n",
    "plt.show()"
   ]
  },
  {
   "cell_type": "code",
   "execution_count": 4,
   "metadata": {},
   "outputs": [
    {
     "data": {
      "text/html": [
       "<div>\n",
       "<style scoped>\n",
       "    .dataframe tbody tr th:only-of-type {\n",
       "        vertical-align: middle;\n",
       "    }\n",
       "\n",
       "    .dataframe tbody tr th {\n",
       "        vertical-align: top;\n",
       "    }\n",
       "\n",
       "    .dataframe thead th {\n",
       "        text-align: right;\n",
       "    }\n",
       "</style>\n",
       "<table border=\"1\" class=\"dataframe\">\n",
       "  <thead>\n",
       "    <tr style=\"text-align: right;\">\n",
       "      <th></th>\n",
       "      <th>MA5</th>\n",
       "      <th>MA10</th>\n",
       "    </tr>\n",
       "  </thead>\n",
       "  <tbody>\n",
       "    <tr>\n",
       "      <th>60</th>\n",
       "      <td>63.618805</td>\n",
       "      <td>61.749537</td>\n",
       "    </tr>\n",
       "    <tr>\n",
       "      <th>61</th>\n",
       "      <td>64.076831</td>\n",
       "      <td>64.161904</td>\n",
       "    </tr>\n",
       "    <tr>\n",
       "      <th>62</th>\n",
       "      <td>67.247620</td>\n",
       "      <td>66.997561</td>\n",
       "    </tr>\n",
       "    <tr>\n",
       "      <th>63</th>\n",
       "      <td>71.095830</td>\n",
       "      <td>69.155002</td>\n",
       "    </tr>\n",
       "    <tr>\n",
       "      <th>64</th>\n",
       "      <td>72.717618</td>\n",
       "      <td>68.600174</td>\n",
       "    </tr>\n",
       "  </tbody>\n",
       "</table>\n",
       "</div>"
      ],
      "text/plain": [
       "          MA5       MA10\n",
       "60  63.618805  61.749537\n",
       "61  64.076831  64.161904\n",
       "62  67.247620  66.997561\n",
       "63  71.095830  69.155002\n",
       "64  72.717618  68.600174"
      ]
     },
     "execution_count": 4,
     "metadata": {},
     "output_type": "execute_result"
    }
   ],
   "source": [
    "MA10 = []\n",
    "MA5 = []\n",
    "for day in range(len(seqs['seq'])):\n",
    "    if day < 4:\n",
    "        MA5.append(0)\n",
    "        MA10.append(0)\n",
    "    elif day < 9:\n",
    "        MA5.append(seqs.loc[day - 4:day + 1].mean().values[0])\n",
    "        MA10.append(0)\n",
    "    else:\n",
    "        MA5.append(seqs.loc[day - 4:day + 1].mean().values[0])\n",
    "        MA10.append(seqs.loc[day - 9:day + 1].mean().values[0])\n",
    "MA = pd.DataFrame()\n",
    "MA['MA5'] = MA5\n",
    "MA['MA10'] = MA10\n",
    "MA.tail()"
   ]
  },
  {
   "cell_type": "code",
   "execution_count": 5,
   "metadata": {},
   "outputs": [
    {
     "data": {
      "image/png": "[encoded data removed]",
      "text/plain": [
       "<Figure size 432x288 with 1 Axes>"
      ]
     },
     "metadata": {
      "needs_background": "light"
     },
     "output_type": "display_data"
    }
   ],
   "source": [
    "plt.plot(MA['MA5'].loc[9:], label='MA5')\n",
    "plt.plot(MA['MA10'].loc[9:], label='MA10')\n",
    "plt.legend(loc='best')\n",
    "plt.savefig('pic/600905_fin_BSI6_index_EMA')\n",
    "plt.show()"
   ]
  },
  {
   "cell_type": "code",
   "execution_count": 6,
   "metadata": {},
   "outputs": [
    {
     "name": "stdout",
     "output_type": "stream",
     "text": [
      "金叉点:  [40, 62]\n",
      "死叉点:  [21, 61]\n"
     ]
    }
   ],
   "source": [
    "flag = MA['MA5'] - MA['MA10']\n",
    "flag = flag.apply(lambda x: 1 if x >= 0 else 0)\n",
    "\n",
    "fork_gold = []\n",
    "fork_dead = []\n",
    "last = flag[10]\n",
    "for day in range(11, len(flag)):\n",
    "    if flag[day] != last:\n",
    "        if flag[day] == 0:\n",
    "            fork_dead.append(day)\n",
    "        else:\n",
    "            fork_gold.append(day)\n",
    "        last = flag[day]\n",
    "print('金叉点: ', fork_gold)\n",
    "print('死叉点: ', fork_dead)"
   ]
  },
  {
   "cell_type": "code",
   "execution_count": 7,
   "metadata": {},
   "outputs": [
    {
     "name": "stdout",
     "output_type": "stream",
     "text": [
      "本接口即将停止更新，请尽快使用Pro版接口：https://tushare.pro/document/2\n"
     ]
    },
    {
     "data": {
      "text/html": [
       "<div>\n",
       "<style scoped>\n",
       "    .dataframe tbody tr th:only-of-type {\n",
       "        vertical-align: middle;\n",
       "    }\n",
       "\n",
       "    .dataframe tbody tr th {\n",
       "        vertical-align: top;\n",
       "    }\n",
       "\n",
       "    .dataframe thead th {\n",
       "        text-align: right;\n",
       "    }\n",
       "</style>\n",
       "<table border=\"1\" class=\"dataframe\">\n",
       "  <thead>\n",
       "    <tr style=\"text-align: right;\">\n",
       "      <th></th>\n",
       "      <th>open</th>\n",
       "      <th>high</th>\n",
       "      <th>close</th>\n",
       "      <th>low</th>\n",
       "      <th>volume</th>\n",
       "      <th>price_change</th>\n",
       "      <th>p_change</th>\n",
       "      <th>ma5</th>\n",
       "      <th>ma10</th>\n",
       "      <th>ma20</th>\n",
       "      <th>v_ma5</th>\n",
       "      <th>v_ma10</th>\n",
       "      <th>v_ma20</th>\n",
       "      <th>turnover</th>\n",
       "    </tr>\n",
       "  </thead>\n",
       "  <tbody>\n",
       "    <tr>\n",
       "      <th>0</th>\n",
       "      <td>7.22</td>\n",
       "      <td>7.25</td>\n",
       "      <td>6.84</td>\n",
       "      <td>6.70</td>\n",
       "      <td>6123323.00</td>\n",
       "      <td>-0.30</td>\n",
       "      <td>-4.20</td>\n",
       "      <td>7.174</td>\n",
       "      <td>7.072</td>\n",
       "      <td>6.669</td>\n",
       "      <td>8534272.30</td>\n",
       "      <td>11166295.25</td>\n",
       "      <td>9889276.25</td>\n",
       "      <td>8.81</td>\n",
       "    </tr>\n",
       "    <tr>\n",
       "      <th>1</th>\n",
       "      <td>6.70</td>\n",
       "      <td>6.94</td>\n",
       "      <td>6.73</td>\n",
       "      <td>6.45</td>\n",
       "      <td>6047445.00</td>\n",
       "      <td>-0.11</td>\n",
       "      <td>-1.61</td>\n",
       "      <td>7.028</td>\n",
       "      <td>7.083</td>\n",
       "      <td>6.680</td>\n",
       "      <td>7171635.30</td>\n",
       "      <td>10201793.65</td>\n",
       "      <td>9285817.60</td>\n",
       "      <td>8.70</td>\n",
       "    </tr>\n",
       "    <tr>\n",
       "      <th>2</th>\n",
       "      <td>6.64</td>\n",
       "      <td>6.64</td>\n",
       "      <td>6.49</td>\n",
       "      <td>6.36</td>\n",
       "      <td>4431096.50</td>\n",
       "      <td>-0.24</td>\n",
       "      <td>-3.57</td>\n",
       "      <td>6.914</td>\n",
       "      <td>7.004</td>\n",
       "      <td>6.686</td>\n",
       "      <td>6291281.80</td>\n",
       "      <td>9061489.70</td>\n",
       "      <td>8883987.98</td>\n",
       "      <td>6.38</td>\n",
       "    </tr>\n",
       "    <tr>\n",
       "      <th>3</th>\n",
       "      <td>6.41</td>\n",
       "      <td>6.69</td>\n",
       "      <td>6.53</td>\n",
       "      <td>6.33</td>\n",
       "      <td>4498129.00</td>\n",
       "      <td>0.04</td>\n",
       "      <td>0.62</td>\n",
       "      <td>6.746</td>\n",
       "      <td>6.961</td>\n",
       "      <td>6.685</td>\n",
       "      <td>5460974.00</td>\n",
       "      <td>7970881.50</td>\n",
       "      <td>8573383.63</td>\n",
       "      <td>6.47</td>\n",
       "    </tr>\n",
       "    <tr>\n",
       "      <th>4</th>\n",
       "      <td>6.48</td>\n",
       "      <td>6.75</td>\n",
       "      <td>6.68</td>\n",
       "      <td>6.43</td>\n",
       "      <td>4146097.75</td>\n",
       "      <td>0.15</td>\n",
       "      <td>2.30</td>\n",
       "      <td>6.654</td>\n",
       "      <td>6.918</td>\n",
       "      <td>6.692</td>\n",
       "      <td>5049218.25</td>\n",
       "      <td>7173611.78</td>\n",
       "      <td>8191554.66</td>\n",
       "      <td>5.97</td>\n",
       "    </tr>\n",
       "    <tr>\n",
       "      <th>...</th>\n",
       "      <td>...</td>\n",
       "      <td>...</td>\n",
       "      <td>...</td>\n",
       "      <td>...</td>\n",
       "      <td>...</td>\n",
       "      <td>...</td>\n",
       "      <td>...</td>\n",
       "      <td>...</td>\n",
       "      <td>...</td>\n",
       "      <td>...</td>\n",
       "      <td>...</td>\n",
       "      <td>...</td>\n",
       "      <td>...</td>\n",
       "      <td>...</td>\n",
       "    </tr>\n",
       "    <tr>\n",
       "      <th>60</th>\n",
       "      <td>7.57</td>\n",
       "      <td>7.69</td>\n",
       "      <td>7.43</td>\n",
       "      <td>7.41</td>\n",
       "      <td>4034471.25</td>\n",
       "      <td>-0.08</td>\n",
       "      <td>-1.06</td>\n",
       "      <td>7.396</td>\n",
       "      <td>7.424</td>\n",
       "      <td>7.268</td>\n",
       "      <td>4577986.80</td>\n",
       "      <td>5541350.35</td>\n",
       "      <td>6329391.93</td>\n",
       "      <td>4.71</td>\n",
       "    </tr>\n",
       "    <tr>\n",
       "      <th>61</th>\n",
       "      <td>7.41</td>\n",
       "      <td>7.43</td>\n",
       "      <td>7.20</td>\n",
       "      <td>7.11</td>\n",
       "      <td>4646892.00</td>\n",
       "      <td>-0.23</td>\n",
       "      <td>-3.10</td>\n",
       "      <td>7.342</td>\n",
       "      <td>7.421</td>\n",
       "      <td>7.294</td>\n",
       "      <td>4525999.40</td>\n",
       "      <td>5692952.45</td>\n",
       "      <td>6404435.46</td>\n",
       "      <td>5.42</td>\n",
       "    </tr>\n",
       "    <tr>\n",
       "      <th>62</th>\n",
       "      <td>7.12</td>\n",
       "      <td>7.25</td>\n",
       "      <td>7.19</td>\n",
       "      <td>7.09</td>\n",
       "      <td>3178437.00</td>\n",
       "      <td>-0.01</td>\n",
       "      <td>-0.14</td>\n",
       "      <td>7.330</td>\n",
       "      <td>7.431</td>\n",
       "      <td>7.311</td>\n",
       "      <td>4199822.30</td>\n",
       "      <td>5631528.85</td>\n",
       "      <td>6378340.33</td>\n",
       "      <td>3.71</td>\n",
       "    </tr>\n",
       "    <tr>\n",
       "      <th>63</th>\n",
       "      <td>7.16</td>\n",
       "      <td>7.21</td>\n",
       "      <td>7.10</td>\n",
       "      <td>7.09</td>\n",
       "      <td>3227437.75</td>\n",
       "      <td>-0.09</td>\n",
       "      <td>-1.25</td>\n",
       "      <td>7.286</td>\n",
       "      <td>7.393</td>\n",
       "      <td>7.315</td>\n",
       "      <td>4072997.80</td>\n",
       "      <td>5072708.83</td>\n",
       "      <td>6231469.99</td>\n",
       "      <td>3.77</td>\n",
       "    </tr>\n",
       "    <tr>\n",
       "      <th>64</th>\n",
       "      <td>7.11</td>\n",
       "      <td>7.13</td>\n",
       "      <td>7.04</td>\n",
       "      <td>6.90</td>\n",
       "      <td>3051613.00</td>\n",
       "      <td>-0.06</td>\n",
       "      <td>-0.84</td>\n",
       "      <td>7.192</td>\n",
       "      <td>7.320</td>\n",
       "      <td>7.323</td>\n",
       "      <td>3627770.20</td>\n",
       "      <td>4362422.53</td>\n",
       "      <td>5716429.54</td>\n",
       "      <td>3.56</td>\n",
       "    </tr>\n",
       "  </tbody>\n",
       "</table>\n",
       "<p>65 rows × 14 columns</p>\n",
       "</div>"
      ],
      "text/plain": [
       "    open  high  close   low      volume  price_change  p_change    ma5   ma10  \\\n",
       "0   7.22  7.25   6.84  6.70  6123323.00         -0.30     -4.20  7.174  7.072   \n",
       "1   6.70  6.94   6.73  6.45  6047445.00         -0.11     -1.61  7.028  7.083   \n",
       "2   6.64  6.64   6.49  6.36  4431096.50         -0.24     -3.57  6.914  7.004   \n",
       "3   6.41  6.69   6.53  6.33  4498129.00          0.04      0.62  6.746  6.961   \n",
       "4   6.48  6.75   6.68  6.43  4146097.75          0.15      2.30  6.654  6.918   \n",
       "..   ...   ...    ...   ...         ...           ...       ...    ...    ...   \n",
       "60  7.57  7.69   7.43  7.41  4034471.25         -0.08     -1.06  7.396  7.424   \n",
       "61  7.41  7.43   7.20  7.11  4646892.00         -0.23     -3.10  7.342  7.421   \n",
       "62  7.12  7.25   7.19  7.09  3178437.00         -0.01     -0.14  7.330  7.431   \n",
       "63  7.16  7.21   7.10  7.09  3227437.75         -0.09     -1.25  7.286  7.393   \n",
       "64  7.11  7.13   7.04  6.90  3051613.00         -0.06     -0.84  7.192  7.320   \n",
       "\n",
       "     ma20       v_ma5       v_ma10      v_ma20  turnover  \n",
       "0   6.669  8534272.30  11166295.25  9889276.25      8.81  \n",
       "1   6.680  7171635.30  10201793.65  9285817.60      8.70  \n",
       "2   6.686  6291281.80   9061489.70  8883987.98      6.38  \n",
       "3   6.685  5460974.00   7970881.50  8573383.63      6.47  \n",
       "4   6.692  5049218.25   7173611.78  8191554.66      5.97  \n",
       "..    ...         ...          ...         ...       ...  \n",
       "60  7.268  4577986.80   5541350.35  6329391.93      4.71  \n",
       "61  7.294  4525999.40   5692952.45  6404435.46      5.42  \n",
       "62  7.311  4199822.30   5631528.85  6378340.33      3.71  \n",
       "63  7.315  4072997.80   5072708.83  6231469.99      3.77  \n",
       "64  7.323  3627770.20   4362422.53  5716429.54      3.56  \n",
       "\n",
       "[65 rows x 14 columns]"
      ]
     },
     "execution_count": 7,
     "metadata": {},
     "output_type": "execute_result"
    }
   ],
   "source": [
    "import tushare as ts\n",
    "fin_datas = ts.get_hist_data('600905', start='2021-10-11', end='2022-01-10')\n",
    "fin_datas = fin_datas.reset_index()\n",
    "fin_datas = fin_datas.sort_values('date',ascending=True)\n",
    "fin_datas = fin_datas.reset_index()\n",
    "fin_datas = fin_datas.drop(['index', 'date'], axis = 1)\n",
    "fin_datas"
   ]
  },
  {
   "cell_type": "code",
   "execution_count": 8,
   "metadata": {},
   "outputs": [
    {
     "data": {
      "text/html": [
       "<div>\n",
       "<style scoped>\n",
       "    .dataframe tbody tr th:only-of-type {\n",
       "        vertical-align: middle;\n",
       "    }\n",
       "\n",
       "    .dataframe tbody tr th {\n",
       "        vertical-align: top;\n",
       "    }\n",
       "\n",
       "    .dataframe thead th {\n",
       "        text-align: right;\n",
       "    }\n",
       "</style>\n",
       "<table border=\"1\" class=\"dataframe\">\n",
       "  <thead>\n",
       "    <tr style=\"text-align: right;\">\n",
       "      <th></th>\n",
       "      <th>MA5</th>\n",
       "      <th>MA10</th>\n",
       "    </tr>\n",
       "  </thead>\n",
       "  <tbody>\n",
       "    <tr>\n",
       "      <th>60</th>\n",
       "      <td>7.396</td>\n",
       "      <td>7.424</td>\n",
       "    </tr>\n",
       "    <tr>\n",
       "      <th>61</th>\n",
       "      <td>7.342</td>\n",
       "      <td>7.421</td>\n",
       "    </tr>\n",
       "    <tr>\n",
       "      <th>62</th>\n",
       "      <td>7.330</td>\n",
       "      <td>7.431</td>\n",
       "    </tr>\n",
       "    <tr>\n",
       "      <th>63</th>\n",
       "      <td>7.286</td>\n",
       "      <td>7.393</td>\n",
       "    </tr>\n",
       "    <tr>\n",
       "      <th>64</th>\n",
       "      <td>7.192</td>\n",
       "      <td>7.320</td>\n",
       "    </tr>\n",
       "  </tbody>\n",
       "</table>\n",
       "</div>"
      ],
      "text/plain": [
       "      MA5   MA10\n",
       "60  7.396  7.424\n",
       "61  7.342  7.421\n",
       "62  7.330  7.431\n",
       "63  7.286  7.393\n",
       "64  7.192  7.320"
      ]
     },
     "execution_count": 8,
     "metadata": {},
     "output_type": "execute_result"
    }
   ],
   "source": [
    "MA_old = fin_datas[['ma5', 'ma10']]\n",
    "MA_old = MA_old.reset_index()\n",
    "MA_old = MA_old[['ma5', 'ma10']]\n",
    "MA_old.columns = ['MA5', 'MA10']\n",
    "MA_old.tail()"
   ]
  },
  {
   "cell_type": "code",
   "execution_count": 9,
   "metadata": {},
   "outputs": [
    {
     "data": {
      "image/png": "[encoded data removed]",
      "text/plain": [
       "<Figure size 432x288 with 1 Axes>"
      ]
     },
     "metadata": {
      "needs_background": "light"
     },
     "output_type": "display_data"
    }
   ],
   "source": [
    "plt.plot(MA['MA5'].loc[9:60], label='MA5')\n",
    "plt.plot(MA['MA10'].loc[9:60], label='MA10')\n",
    "plt.legend(loc='best')\n",
    "plt.savefig('pic/600905_fin_EMA')\n",
    "plt.show()"
   ]
  },
  {
   "cell_type": "code",
   "execution_count": 10,
   "metadata": {},
   "outputs": [
    {
     "name": "stdout",
     "output_type": "stream",
     "text": [
      "金叉点:  [39]\n",
      "死叉点:  [21, 60]\n"
     ]
    }
   ],
   "source": [
    "flag_old = MA_old['MA5'] - MA_old['MA10']\n",
    "flag_old = flag_old.apply(lambda x: 1 if x >= 0 else 0)\n",
    "\n",
    "fork_gold_old = []\n",
    "fork_dead_old = []\n",
    "last = flag_old[10]\n",
    "for day in range(11, len(flag_old)):\n",
    "    if flag_old[day] != last:\n",
    "        if flag_old[day] == 0:\n",
    "            fork_dead_old.append(day)\n",
    "        else:\n",
    "            fork_gold_old.append(day)\n",
    "        last = flag_old[day]\n",
    "print('金叉点: ', fork_gold_old)\n",
    "print('死叉点: ', fork_dead_old)"
   ]
  },
  {
   "cell_type": "code",
   "execution_count": 11,
   "metadata": {},
   "outputs": [
    {
     "name": "stdout",
     "output_type": "stream",
     "text": [
      "新每股收益:  0.4500000000000002\n",
      "旧每股收益:  0.5699999999999994\n"
     ]
    }
   ],
   "source": [
    "price = fin_datas['close'].tolist()\n",
    "earn = price[fork_dead[-1]] - price[fork_gold[0]]\n",
    "print('新每股收益: ', earn)\n",
    "earn_old = price[fork_dead_old[-1]] - price[fork_gold_old[0]]\n",
    "print('旧每股收益: ', earn_old)"
   ]
  }
 ],
 "metadata": {
  "interpreter": {
   "hash": "a8f61be024eba58adef938c9aa1e29e02cb3dece83a5348b1a2dafd16a070453"
  },
  "kernelspec": {
   "display_name": "Python 3.7.0 ('base')",
   "language": "python",
   "name": "python3"
  },
  "language_info": {
   "codemirror_mode": {
    "name": "ipython",
    "version": 3
   },
   "file_extension": ".py",
   "mimetype": "text/x-python",
   "name": "python",
   "nbconvert_exporter": "python",
   "pygments_lexer": "ipython3",
   "version": "3.7.0"
  },
  "orig_nbformat": 4
 },
 "nbformat": 4,
 "nbformat_minor": 2
}
